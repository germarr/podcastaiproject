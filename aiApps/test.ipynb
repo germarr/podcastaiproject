{
 "cells": [
  {
   "cell_type": "code",
   "execution_count": 18,
   "metadata": {},
   "outputs": [],
   "source": [
    "from langchain_openai import AzureChatOpenAI\n",
    "from langchain.chains.summarize import load_summarize_chain\n",
    "from langchain.chains.llm import LLMChain\n",
    "from langchain.prompts import PromptTemplate\n",
    "from langchain_text_splitters import CharacterTextSplitter\n",
    "from langchain_core.documents import Document\n",
    "from langchain_core.output_parsers import StrOutputParser\n",
    "from langchain_core.prompts import ChatPromptTemplate\n",
    "from langchain.text_splitter import RecursiveCharacterTextSplitter\n",
    "from langchain.document_loaders import TextLoader\n",
    "\n",
    "import pandas as pd"
   ]
  },
  {
   "cell_type": "code",
   "execution_count": 41,
   "metadata": {},
   "outputs": [],
   "source": [
    "oai_auth = '2e5b9946f66648789d1a0cc12f01f046'\n",
    "oai_endpoint = 'https://me-m1tege32-eastus2.openai.azure.com/'"
   ]
  },
  {
   "cell_type": "code",
   "execution_count": 45,
   "metadata": {},
   "outputs": [],
   "source": [
    "llm = AzureChatOpenAI(\n",
    "    azure_endpoint=oai_endpoint,\n",
    "    openai_api_key = oai_auth,\n",
    "    azure_deployment='gpt-35-turbo',\n",
    "    openai_api_version=\"2024-05-01-preview\",\n",
    ")\n",
    "\n",
    "client = AzureOpenAI(\n",
    "  api_key = \"4098e32d0091462c930c526f29a4f1f0\",  \n",
    "  api_version = \"2023-05-15\",\n",
    "  azure_deployment='text-embedding-ada-002',\n",
    "  azure_endpoint = \"https://gmarropenai.openai.azure.com/\"\n",
    ")\n",
    "\n",
    "folder_template = \"../transcript/what’s_wrong_with_donald_trump.txt\"\n",
    "\n",
    "# Open the file in read mode ('r')\n",
    "with open(folder_template, 'r') as file:\n",
    "    content = file.read()\n"
   ]
  },
  {
   "cell_type": "code",
   "execution_count": 36,
   "metadata": {},
   "outputs": [],
   "source": [
    "def refine_summary(transcript_path:str=None):\n",
    "\n",
    "    text_splitter = RecursiveCharacterTextSplitter(chunk_size=1500, chunk_overlap=10)\n",
    "\n",
    "    cook = TextLoader(transcript_path, encoding = 'UTF-8').load()\n",
    "    text = text_splitter.split_documents(cook)\n",
    "\n",
    "    return text\n",
    "\n",
    "ll = refine_summary(transcript_path=folder_template)"
   ]
  },
  {
   "cell_type": "code",
   "execution_count": 37,
   "metadata": {},
   "outputs": [],
   "source": [
    "import os\n",
    "import re\n",
    "import requests\n",
    "import sys\n",
    "from num2words import num2words\n",
    "import os\n",
    "import pandas as pd\n",
    "import numpy as np\n",
    "import tiktoken\n",
    "from openai import AzureOpenAI\n",
    "\n",
    "# s is input text\n",
    "def normalize_text(s, sep_token = \" \\n \"):\n",
    "    s = re.sub(r'\\s+',  ' ', s).strip()\n",
    "    s = re.sub(r\". ,\",\"\",s)\n",
    "    # remove all instances of multiple spaces\n",
    "    s = s.replace(\"..\",\".\")\n",
    "    s = s.replace(\". .\",\".\")\n",
    "    s = s.replace(\"\\n\", \"\")\n",
    "    s = s.strip()\n",
    "    \n",
    "    return s\n",
    "\n",
    "df_bills = pd.DataFrame({'text':[i.page_content for i in ll]})\n",
    "df_bills['text']= df_bills[\"text\"].apply(lambda x : normalize_text(x))"
   ]
  },
  {
   "cell_type": "code",
   "execution_count": 38,
   "metadata": {},
   "outputs": [],
   "source": [
    "tokenizer = tiktoken.get_encoding(\"cl100k_base\")\n",
    "df_bills['n_tokens'] = df_bills[\"text\"].apply(lambda x: len(tokenizer.encode(x)))\n",
    "df_bills = df_bills[df_bills.n_tokens<8192]"
   ]
  },
  {
   "cell_type": "code",
   "execution_count": 46,
   "metadata": {},
   "outputs": [],
   "source": [
    "def generate_embeddings(text, model=\"text-embedding-ada-002\"): # model = \"deployment_name\"\n",
    "    return client.embeddings.create(input = [text], model=model).data[0].embedding\n",
    "\n",
    "df_bills['ada_v2'] = df_bills[\"text\"].apply(lambda x : generate_embeddings (x, model = 'text-embedding-ada-002')) # model should be set to the deployment name you chose when you deployed the text-embedding-ada-002 (Version 2) model"
   ]
  },
  {
   "cell_type": "code",
   "execution_count": 48,
   "metadata": {},
   "outputs": [
    {
     "data": {
      "text/html": [
       "<div>\n",
       "<style scoped>\n",
       "    .dataframe tbody tr th:only-of-type {\n",
       "        vertical-align: middle;\n",
       "    }\n",
       "\n",
       "    .dataframe tbody tr th {\n",
       "        vertical-align: top;\n",
       "    }\n",
       "\n",
       "    .dataframe thead th {\n",
       "        text-align: right;\n",
       "    }\n",
       "</style>\n",
       "<table border=\"1\" class=\"dataframe\">\n",
       "  <thead>\n",
       "    <tr style=\"text-align: right;\">\n",
       "      <th></th>\n",
       "      <th>text</th>\n",
       "      <th>n_tokens</th>\n",
       "      <th>ada_v2</th>\n",
       "      <th>similarities</th>\n",
       "    </tr>\n",
       "  </thead>\n",
       "  <tbody>\n",
       "    <tr>\n",
       "      <th>23</th>\n",
       "      <td>to do what Mike Pence would not. Elon Musk is ...</td>\n",
       "      <td>309</td>\n",
       "      <td>[-0.026767728850245476, -0.017276007682085037,...</td>\n",
       "      <td>0.827407</td>\n",
       "    </tr>\n",
       "    <tr>\n",
       "      <th>11</th>\n",
       "      <td>to tell you. Do you agree with that? He's a wa...</td>\n",
       "      <td>338</td>\n",
       "      <td>[-0.023426249623298645, -0.00290662725456059, ...</td>\n",
       "      <td>0.823870</td>\n",
       "    </tr>\n",
       "    <tr>\n",
       "      <th>18</th>\n",
       "      <td>Nikki Haley and I fought. And I beat her by 50...</td>\n",
       "      <td>327</td>\n",
       "      <td>[-0.03176213428378105, -0.01694893091917038, 0...</td>\n",
       "      <td>0.823530</td>\n",
       "    </tr>\n",
       "    <tr>\n",
       "      <th>14</th>\n",
       "      <td>and I were so concerned because we didn't want...</td>\n",
       "      <td>312</td>\n",
       "      <td>[-0.019278954714536667, -0.028694888576865196,...</td>\n",
       "      <td>0.818462</td>\n",
       "    </tr>\n",
       "  </tbody>\n",
       "</table>\n",
       "</div>"
      ],
      "text/plain": [
       "                                                 text  n_tokens  \\\n",
       "23  to do what Mike Pence would not. Elon Musk is ...       309   \n",
       "11  to tell you. Do you agree with that? He's a wa...       338   \n",
       "18  Nikki Haley and I fought. And I beat her by 50...       327   \n",
       "14  and I were so concerned because we didn't want...       312   \n",
       "\n",
       "                                               ada_v2  similarities  \n",
       "23  [-0.026767728850245476, -0.017276007682085037,...      0.827407  \n",
       "11  [-0.023426249623298645, -0.00290662725456059, ...      0.823870  \n",
       "18  [-0.03176213428378105, -0.01694893091917038, 0...      0.823530  \n",
       "14  [-0.019278954714536667, -0.028694888576865196,...      0.818462  "
      ]
     },
     "metadata": {},
     "output_type": "display_data"
    }
   ],
   "source": [
    "def cosine_similarity(a, b):\n",
    "    return np.dot(a, b) / (np.linalg.norm(a) * np.linalg.norm(b))\n",
    "\n",
    "def get_embedding(text, model=\"text-embedding-ada-002\"): # model = \"deployment_name\"\n",
    "    return client.embeddings.create(input = [text], model=model).data[0].embedding\n",
    "\n",
    "def search_docs(df, user_query, top_n=4, to_print=True):\n",
    "    embedding = get_embedding(\n",
    "        user_query,\n",
    "        model=\"text-embedding-ada-002\" # model should be set to the deployment name you chose when you deployed the text-embedding-ada-002 (Version 2) model\n",
    "    )\n",
    "    df[\"similarities\"] = df.ada_v2.apply(lambda x: cosine_similarity(x, embedding))\n",
    "\n",
    "    res = (\n",
    "        df.sort_values(\"similarities\", ascending=False)\n",
    "        .head(top_n)\n",
    "    )\n",
    "    if to_print:\n",
    "        display(res)\n",
    "    return res\n",
    "\n",
    "\n",
    "res = search_docs(df_bills, \"What makes Donald second term more dangerous?\", top_n=4)"
   ]
  },
  {
   "cell_type": "code",
   "execution_count": 67,
   "metadata": {},
   "outputs": [],
   "source": [
    "allTEXTS = res['text'].to_list() \n",
    "single_string = \" \".join(allTEXTS)\n",
    "\n",
    "with open(\"../answers/wow.txt\", \"w\", encoding=\"utf-8\") as file:\n",
    "    file.write(single_string)"
   ]
  },
  {
   "cell_type": "code",
   "execution_count": 69,
   "metadata": {},
   "outputs": [
    {
     "name": "stderr",
     "output_type": "stream",
     "text": [
      "/var/folders/08/chgp4vr54wzb4d1lbl1tqls40000gn/T/ipykernel_10167/852053879.py:40: LangChainDeprecationWarning: The method `Chain.__call__` was deprecated in langchain 0.1.0 and will be removed in 1.0. Use :meth:`~invoke` instead.\n",
      "  result_summary = chain({\"input_documents\": text}, return_only_outputs=False)\n"
     ]
    }
   ],
   "source": [
    "def refine_summary(transcript_path:str=None):\n",
    "\n",
    "    text_splitter = RecursiveCharacterTextSplitter(chunk_size=1500, chunk_overlap=10)\n",
    "\n",
    "    cook = TextLoader(transcript_path, encoding = 'UTF-8').load()\n",
    "    text = text_splitter.split_documents(cook)\n",
    "\n",
    "    prompt = \"\"\"\n",
    "            Please provide a summary of the following text.\n",
    "                  TEXT: {text}\n",
    "                  SUMMARY:\n",
    "                  \"\"\"\n",
    "\n",
    "    question_prompt = PromptTemplate(\n",
    "        template=prompt, input_variables=[\"text\"]\n",
    "    )\n",
    "\n",
    "    refine_prompt_template = \"\"\"\n",
    "                Write a concise summary of the following text delimited by triple backquotes.\n",
    "                Return your response in bullet points which covers the key points of the text.\n",
    "                IF IT SOUNDS LIKE AN ADVERTISMENT RETURN 'AD NO RELEVANT'\n",
    "                ```{text}```\n",
    "                BULLET POINT SUMMARY:\n",
    "                \"\"\"\n",
    "\n",
    "    refine_template = PromptTemplate(\n",
    "        template=refine_prompt_template, input_variables=[\"text\"])\n",
    "\n",
    "    # Load refine chain\n",
    "    chain = load_summarize_chain(\n",
    "        llm=llm,\n",
    "        chain_type=\"refine\",\n",
    "        question_prompt=question_prompt,\n",
    "        refine_prompt=refine_template,\n",
    "        return_intermediate_steps=True,\n",
    "        input_key=\"input_documents\",\n",
    "        output_key=\"output_text\",\n",
    "    )\n",
    "\n",
    "    result_summary = chain({\"input_documents\": text}, return_only_outputs=False)\n",
    "    answer = result_summary['output_text']\n",
    "\n",
    "    # Open the file in write mode and save the transcription\n",
    "    with open(\"../answers/wow.txt\", \"w\", encoding=\"utf-8\") as file:\n",
    "        file.write(answer)\n",
    "\n",
    "    return answer\n",
    "\n",
    "aah=refine_summary(transcript_path='\\../answers/wow.txt')"
   ]
  },
  {
   "cell_type": "code",
   "execution_count": 70,
   "metadata": {},
   "outputs": [
    {
     "data": {
      "text/plain": [
       "\"- FEMA officials were concerned about cutting off money to people whose homes were burning down at the direction of the president\\n- Trump administration was known for disregarding the president's orders and just doing their jobs\\n- Trump repeatedly proposed extreme measures such as firing patriot missiles at suspected drug labs in Mexico and launching nuclear weapons\\n- Trump talked about using government machinery against political enemies, pulling out of NATO, and using untested treatments for COVID\\n- During George Floyd protests, Trump wanted to use military force against protesters\""
      ]
     },
     "execution_count": 70,
     "metadata": {},
     "output_type": "execute_result"
    }
   ],
   "source": [
    "aah"
   ]
  }
 ],
 "metadata": {
  "kernelspec": {
   "display_name": ".venv",
   "language": "python",
   "name": "python3"
  },
  "language_info": {
   "codemirror_mode": {
    "name": "ipython",
    "version": 3
   },
   "file_extension": ".py",
   "mimetype": "text/x-python",
   "name": "python",
   "nbconvert_exporter": "python",
   "pygments_lexer": "ipython3",
   "version": "3.10.4"
  }
 },
 "nbformat": 4,
 "nbformat_minor": 2
}
